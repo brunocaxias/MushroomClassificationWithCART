{
  "nbformat": 4,
  "nbformat_minor": 0,
  "metadata": {
    "colab": {
      "provenance": []
    },
    "kernelspec": {
      "name": "python3",
      "display_name": "Python 3"
    },
    "language_info": {
      "name": "python"
    }
  },
  "cells": [
    {
      "cell_type": "code",
      "execution_count": 2,
      "metadata": {
        "id": "V8q2-FhW8_0K",
        "colab": {
          "base_uri": "https://localhost:8080/"
        },
        "outputId": "720bd4dd-d61b-4ec8-8f56-e844a240942d"
      },
      "outputs": [
        {
          "output_type": "stream",
          "name": "stdout",
          "text": [
            "Requirement already satisfied: pydot in /usr/local/lib/python3.10/dist-packages (1.4.2)\n",
            "Requirement already satisfied: pyparsing>=2.1.4 in /usr/local/lib/python3.10/dist-packages (from pydot) (3.1.2)\n"
          ]
        }
      ],
      "source": [
        "!pip install pydot"
      ]
    },
    {
      "cell_type": "code",
      "source": [
        "import numpy as np # linear algebra\n",
        "import pandas as pd # data processing, CSV file I/O (e.g. pd.read_csv)\n",
        "import matplotlib as mpl\n",
        "import matplotlib.pyplot as plt\n",
        "import seaborn as sns\n",
        "\n",
        "\n",
        "# load the data\n",
        "df = pd.read_csv('https://docs.google.com/spreadsheets/d/e/2PACX-1vS_BmxRSRvCTBxAn1KzCxAPKtlJ8JcNuipkJepr3zv2TD6ibwx__r5kLSiZii_URxpu5gmh1kOHxCtr/pub?gid=1170682623&single=true&output=csv')\n",
        "\n",
        "\n",
        "# There are no null columns in the dataset\n",
        "df[df.isnull().any(axis=1)]"
      ],
      "metadata": {
        "colab": {
          "base_uri": "https://localhost:8080/",
          "height": 151
        },
        "id": "_lvoEZnMBa3T",
        "outputId": "d326b5bb-e6c8-44fb-93e6-ce7429246a27"
      },
      "execution_count": 4,
      "outputs": [
        {
          "output_type": "execute_result",
          "data": {
            "text/plain": [
              "Empty DataFrame\n",
              "Columns: [class, cap-shape, cap-surface, cap-color, bruises, odor, gill-attachment, gill-spacing, gill-size, gill-color, stalk-shape, stalk-root, stalk-surface-above-ring, stalk-surface-below-ring, stalk-color-above-ring, stalk-color-below-ring, veil-type, veil-color, ring-number, ring-type, spore-print-color, population, habitat]\n",
              "Index: []\n",
              "\n",
              "[0 rows x 23 columns]"
            ],
            "text/html": [
              "\n",
              "  <div id=\"df-c6b33f59-cf53-4d8d-aef1-59ee42a95b89\" class=\"colab-df-container\">\n",
              "    <div>\n",
              "<style scoped>\n",
              "    .dataframe tbody tr th:only-of-type {\n",
              "        vertical-align: middle;\n",
              "    }\n",
              "\n",
              "    .dataframe tbody tr th {\n",
              "        vertical-align: top;\n",
              "    }\n",
              "\n",
              "    .dataframe thead th {\n",
              "        text-align: right;\n",
              "    }\n",
              "</style>\n",
              "<table border=\"1\" class=\"dataframe\">\n",
              "  <thead>\n",
              "    <tr style=\"text-align: right;\">\n",
              "      <th></th>\n",
              "      <th>class</th>\n",
              "      <th>cap-shape</th>\n",
              "      <th>cap-surface</th>\n",
              "      <th>cap-color</th>\n",
              "      <th>bruises</th>\n",
              "      <th>odor</th>\n",
              "      <th>gill-attachment</th>\n",
              "      <th>gill-spacing</th>\n",
              "      <th>gill-size</th>\n",
              "      <th>gill-color</th>\n",
              "      <th>...</th>\n",
              "      <th>stalk-surface-below-ring</th>\n",
              "      <th>stalk-color-above-ring</th>\n",
              "      <th>stalk-color-below-ring</th>\n",
              "      <th>veil-type</th>\n",
              "      <th>veil-color</th>\n",
              "      <th>ring-number</th>\n",
              "      <th>ring-type</th>\n",
              "      <th>spore-print-color</th>\n",
              "      <th>population</th>\n",
              "      <th>habitat</th>\n",
              "    </tr>\n",
              "  </thead>\n",
              "  <tbody>\n",
              "  </tbody>\n",
              "</table>\n",
              "<p>0 rows × 23 columns</p>\n",
              "</div>\n",
              "    <div class=\"colab-df-buttons\">\n",
              "\n",
              "  <div class=\"colab-df-container\">\n",
              "    <button class=\"colab-df-convert\" onclick=\"convertToInteractive('df-c6b33f59-cf53-4d8d-aef1-59ee42a95b89')\"\n",
              "            title=\"Convert this dataframe to an interactive table.\"\n",
              "            style=\"display:none;\">\n",
              "\n",
              "  <svg xmlns=\"http://www.w3.org/2000/svg\" height=\"24px\" viewBox=\"0 -960 960 960\">\n",
              "    <path d=\"M120-120v-720h720v720H120Zm60-500h600v-160H180v160Zm220 220h160v-160H400v160Zm0 220h160v-160H400v160ZM180-400h160v-160H180v160Zm440 0h160v-160H620v160ZM180-180h160v-160H180v160Zm440 0h160v-160H620v160Z\"/>\n",
              "  </svg>\n",
              "    </button>\n",
              "\n",
              "  <style>\n",
              "    .colab-df-container {\n",
              "      display:flex;\n",
              "      gap: 12px;\n",
              "    }\n",
              "\n",
              "    .colab-df-convert {\n",
              "      background-color: #E8F0FE;\n",
              "      border: none;\n",
              "      border-radius: 50%;\n",
              "      cursor: pointer;\n",
              "      display: none;\n",
              "      fill: #1967D2;\n",
              "      height: 32px;\n",
              "      padding: 0 0 0 0;\n",
              "      width: 32px;\n",
              "    }\n",
              "\n",
              "    .colab-df-convert:hover {\n",
              "      background-color: #E2EBFA;\n",
              "      box-shadow: 0px 1px 2px rgba(60, 64, 67, 0.3), 0px 1px 3px 1px rgba(60, 64, 67, 0.15);\n",
              "      fill: #174EA6;\n",
              "    }\n",
              "\n",
              "    .colab-df-buttons div {\n",
              "      margin-bottom: 4px;\n",
              "    }\n",
              "\n",
              "    [theme=dark] .colab-df-convert {\n",
              "      background-color: #3B4455;\n",
              "      fill: #D2E3FC;\n",
              "    }\n",
              "\n",
              "    [theme=dark] .colab-df-convert:hover {\n",
              "      background-color: #434B5C;\n",
              "      box-shadow: 0px 1px 3px 1px rgba(0, 0, 0, 0.15);\n",
              "      filter: drop-shadow(0px 1px 2px rgba(0, 0, 0, 0.3));\n",
              "      fill: #FFFFFF;\n",
              "    }\n",
              "  </style>\n",
              "\n",
              "    <script>\n",
              "      const buttonEl =\n",
              "        document.querySelector('#df-c6b33f59-cf53-4d8d-aef1-59ee42a95b89 button.colab-df-convert');\n",
              "      buttonEl.style.display =\n",
              "        google.colab.kernel.accessAllowed ? 'block' : 'none';\n",
              "\n",
              "      async function convertToInteractive(key) {\n",
              "        const element = document.querySelector('#df-c6b33f59-cf53-4d8d-aef1-59ee42a95b89');\n",
              "        const dataTable =\n",
              "          await google.colab.kernel.invokeFunction('convertToInteractive',\n",
              "                                                    [key], {});\n",
              "        if (!dataTable) return;\n",
              "\n",
              "        const docLinkHtml = 'Like what you see? Visit the ' +\n",
              "          '<a target=\"_blank\" href=https://colab.research.google.com/notebooks/data_table.ipynb>data table notebook</a>'\n",
              "          + ' to learn more about interactive tables.';\n",
              "        element.innerHTML = '';\n",
              "        dataTable['output_type'] = 'display_data';\n",
              "        await google.colab.output.renderOutput(dataTable, element);\n",
              "        const docLink = document.createElement('div');\n",
              "        docLink.innerHTML = docLinkHtml;\n",
              "        element.appendChild(docLink);\n",
              "      }\n",
              "    </script>\n",
              "  </div>\n",
              "\n",
              "\n",
              "    </div>\n",
              "  </div>\n"
            ],
            "application/vnd.google.colaboratory.intrinsic+json": {
              "type": "dataframe"
            }
          },
          "metadata": {},
          "execution_count": 4
        }
      ]
    },
    {
      "cell_type": "code",
      "source": [
        "from sklearn.model_selection import train_test_split\n",
        "\n",
        "# split the data int x(training data) and y (results)\n",
        "y = df['class']\n",
        "x = df.drop(['class'], axis=1)\n",
        "x = pd.get_dummies(x)\n",
        "y = pd.get_dummies(y)"
      ],
      "metadata": {
        "id": "-qyghhmbELCt"
      },
      "execution_count": 5,
      "outputs": []
    },
    {
      "cell_type": "code",
      "source": [
        "from sklearn.model_selection import cross_val_score\n",
        "from sklearn import tree\n",
        "from sklearn.model_selection import GridSearchCV\n",
        "\n",
        "X_train, X_test, y_train, y_test = train_test_split(x, y, test_size=0.25, random_state=2)"
      ],
      "metadata": {
        "id": "BVMMpfivEMYD"
      },
      "execution_count": 6,
      "outputs": []
    },
    {
      "cell_type": "code",
      "source": [
        "# Manipulating label data\n",
        "\n",
        "train_label = []\n",
        "for v in np.array(y_train):\n",
        "    e = int(v[0]>v[1]) # is Edable\n",
        "    train_label.append(e)\n",
        "\n",
        "train_label = np.array(train_label)\n",
        "\n",
        "\n",
        "\n",
        "test_label = []\n",
        "for v in np.array(y_test):\n",
        "    e = int(v[0]>v[1]) # is Edable\n",
        "    test_label.append(e)\n",
        "\n",
        "test_label = np.array(test_label)\n"
      ],
      "metadata": {
        "id": "C36BW8ZaEPz5"
      },
      "execution_count": 7,
      "outputs": []
    },
    {
      "cell_type": "code",
      "source": [
        "# creating model\n",
        "\n",
        "parameters = {'criterion': ('gini', 'entropy'),\n",
        "              'min_samples_split': [2, 3, 4, 5],\n",
        "              'max_depth': [9, 10, 11, 12],\n",
        "              'class_weight': ('balanced', None),\n",
        "             }\n",
        "\n",
        "tr = tree.DecisionTreeClassifier()\n",
        "gsearch = GridSearchCV(tr, parameters)\n",
        "gsearch.fit(X_train, train_label)\n",
        "model = gsearch.best_estimator_\n",
        "model\n"
      ],
      "metadata": {
        "id": "oym57YR8F0y3",
        "colab": {
          "base_uri": "https://localhost:8080/",
          "height": 94
        },
        "outputId": "19403a15-2360-48f6-9365-54c2ec1d6602"
      },
      "execution_count": 9,
      "outputs": [
        {
          "output_type": "execute_result",
          "data": {
            "text/plain": [
              "DecisionTreeClassifier(class_weight='balanced', max_depth=9)"
            ],
            "text/html": [
              "<style>#sk-container-id-1 {color: black;background-color: white;}#sk-container-id-1 pre{padding: 0;}#sk-container-id-1 div.sk-toggleable {background-color: white;}#sk-container-id-1 label.sk-toggleable__label {cursor: pointer;display: block;width: 100%;margin-bottom: 0;padding: 0.3em;box-sizing: border-box;text-align: center;}#sk-container-id-1 label.sk-toggleable__label-arrow:before {content: \"▸\";float: left;margin-right: 0.25em;color: #696969;}#sk-container-id-1 label.sk-toggleable__label-arrow:hover:before {color: black;}#sk-container-id-1 div.sk-estimator:hover label.sk-toggleable__label-arrow:before {color: black;}#sk-container-id-1 div.sk-toggleable__content {max-height: 0;max-width: 0;overflow: hidden;text-align: left;background-color: #f0f8ff;}#sk-container-id-1 div.sk-toggleable__content pre {margin: 0.2em;color: black;border-radius: 0.25em;background-color: #f0f8ff;}#sk-container-id-1 input.sk-toggleable__control:checked~div.sk-toggleable__content {max-height: 200px;max-width: 100%;overflow: auto;}#sk-container-id-1 input.sk-toggleable__control:checked~label.sk-toggleable__label-arrow:before {content: \"▾\";}#sk-container-id-1 div.sk-estimator input.sk-toggleable__control:checked~label.sk-toggleable__label {background-color: #d4ebff;}#sk-container-id-1 div.sk-label input.sk-toggleable__control:checked~label.sk-toggleable__label {background-color: #d4ebff;}#sk-container-id-1 input.sk-hidden--visually {border: 0;clip: rect(1px 1px 1px 1px);clip: rect(1px, 1px, 1px, 1px);height: 1px;margin: -1px;overflow: hidden;padding: 0;position: absolute;width: 1px;}#sk-container-id-1 div.sk-estimator {font-family: monospace;background-color: #f0f8ff;border: 1px dotted black;border-radius: 0.25em;box-sizing: border-box;margin-bottom: 0.5em;}#sk-container-id-1 div.sk-estimator:hover {background-color: #d4ebff;}#sk-container-id-1 div.sk-parallel-item::after {content: \"\";width: 100%;border-bottom: 1px solid gray;flex-grow: 1;}#sk-container-id-1 div.sk-label:hover label.sk-toggleable__label {background-color: #d4ebff;}#sk-container-id-1 div.sk-serial::before {content: \"\";position: absolute;border-left: 1px solid gray;box-sizing: border-box;top: 0;bottom: 0;left: 50%;z-index: 0;}#sk-container-id-1 div.sk-serial {display: flex;flex-direction: column;align-items: center;background-color: white;padding-right: 0.2em;padding-left: 0.2em;position: relative;}#sk-container-id-1 div.sk-item {position: relative;z-index: 1;}#sk-container-id-1 div.sk-parallel {display: flex;align-items: stretch;justify-content: center;background-color: white;position: relative;}#sk-container-id-1 div.sk-item::before, #sk-container-id-1 div.sk-parallel-item::before {content: \"\";position: absolute;border-left: 1px solid gray;box-sizing: border-box;top: 0;bottom: 0;left: 50%;z-index: -1;}#sk-container-id-1 div.sk-parallel-item {display: flex;flex-direction: column;z-index: 1;position: relative;background-color: white;}#sk-container-id-1 div.sk-parallel-item:first-child::after {align-self: flex-end;width: 50%;}#sk-container-id-1 div.sk-parallel-item:last-child::after {align-self: flex-start;width: 50%;}#sk-container-id-1 div.sk-parallel-item:only-child::after {width: 0;}#sk-container-id-1 div.sk-dashed-wrapped {border: 1px dashed gray;margin: 0 0.4em 0.5em 0.4em;box-sizing: border-box;padding-bottom: 0.4em;background-color: white;}#sk-container-id-1 div.sk-label label {font-family: monospace;font-weight: bold;display: inline-block;line-height: 1.2em;}#sk-container-id-1 div.sk-label-container {text-align: center;}#sk-container-id-1 div.sk-container {/* jupyter's `normalize.less` sets `[hidden] { display: none; }` but bootstrap.min.css set `[hidden] { display: none !important; }` so we also need the `!important` here to be able to override the default hidden behavior on the sphinx rendered scikit-learn.org. See: https://github.com/scikit-learn/scikit-learn/issues/21755 */display: inline-block !important;position: relative;}#sk-container-id-1 div.sk-text-repr-fallback {display: none;}</style><div id=\"sk-container-id-1\" class=\"sk-top-container\"><div class=\"sk-text-repr-fallback\"><pre>DecisionTreeClassifier(class_weight=&#x27;balanced&#x27;, max_depth=9)</pre><b>In a Jupyter environment, please rerun this cell to show the HTML representation or trust the notebook. <br />On GitHub, the HTML representation is unable to render, please try loading this page with nbviewer.org.</b></div><div class=\"sk-container\" hidden><div class=\"sk-item\"><div class=\"sk-estimator sk-toggleable\"><input class=\"sk-toggleable__control sk-hidden--visually\" id=\"sk-estimator-id-1\" type=\"checkbox\" checked><label for=\"sk-estimator-id-1\" class=\"sk-toggleable__label sk-toggleable__label-arrow\">DecisionTreeClassifier</label><div class=\"sk-toggleable__content\"><pre>DecisionTreeClassifier(class_weight=&#x27;balanced&#x27;, max_depth=9)</pre></div></div></div></div></div>"
            ]
          },
          "metadata": {},
          "execution_count": 9
        }
      ]
    },
    {
      "cell_type": "code",
      "source": [
        "# predicting on test data\n",
        "\n",
        "score = model.score(X_test, test_label)\n",
        "print(f\"Acuracy of CART model is: {score*100}% on the test data.\")"
      ],
      "metadata": {
        "colab": {
          "base_uri": "https://localhost:8080/"
        },
        "id": "zhAA9Q1iGY72",
        "outputId": "b1918e1e-57e6-4b9c-8408-1fc06f76d048"
      },
      "execution_count": 10,
      "outputs": [
        {
          "output_type": "stream",
          "name": "stdout",
          "text": [
            "Acuracy of CART model is: 100.0% on the test data.\n"
          ]
        }
      ]
    },
    {
      "cell_type": "code",
      "source": [
        "# displaying graph\n",
        "\n",
        "import graphviz\n",
        "dot_data = tree.export_graphviz(model, out_file=None,\n",
        "                                feature_names=X_test.columns,\n",
        "                               class_names=['poisonous','edible'],\n",
        "                               filled=True, rounded=True,\n",
        "                               special_characters=True)\n",
        "\n",
        "\n",
        "graph = graphviz.Source(dot_data)\n",
        "graph.render(\"decision_tree_graph\")\n",
        "graph.format = 'png'\n",
        "graph\n",
        "\n",
        "\n",
        "\n",
        "# 0 -> poisolous\n",
        "# 1 -> Edible"
      ],
      "metadata": {
        "colab": {
          "base_uri": "https://localhost:8080/",
          "height": 1000
        },
        "id": "DaneEc2yGbQK",
        "outputId": "2df66381-e5fb-4c55-8ac6-7587d544becb"
      },
      "execution_count": 13,
      "outputs": [
        {
          "output_type": "execute_result",
          "data": {
            "image/svg+xml": "<?xml version=\"1.0\" encoding=\"UTF-8\" standalone=\"no\"?>\n<!DOCTYPE svg PUBLIC \"-//W3C//DTD SVG 1.1//EN\"\n \"http://www.w3.org/Graphics/SVG/1.1/DTD/svg11.dtd\">\n<!-- Generated by graphviz version 2.43.0 (0)\n -->\n<!-- Title: Tree Pages: 1 -->\n<svg width=\"1752pt\" height=\"909pt\"\n viewBox=\"0.00 0.00 1752.00 909.00\" xmlns=\"http://www.w3.org/2000/svg\" xmlns:xlink=\"http://www.w3.org/1999/xlink\">\n<g id=\"graph0\" class=\"graph\" transform=\"scale(1 1) rotate(0) translate(4 905)\">\n<title>Tree</title>\n<polygon fill=\"white\" stroke=\"transparent\" points=\"-4,4 -4,-905 1748,-905 1748,4 -4,4\"/>\n<!-- 0 -->\n<g id=\"node1\" class=\"node\">\n<title>0</title>\n<path fill=\"#ffffff\" stroke=\"black\" d=\"M1138,-901C1138,-901 1000,-901 1000,-901 994,-901 988,-895 988,-889 988,-889 988,-830 988,-830 988,-824 994,-818 1000,-818 1000,-818 1138,-818 1138,-818 1144,-818 1150,-824 1150,-830 1150,-830 1150,-889 1150,-889 1150,-895 1144,-901 1138,-901\"/>\n<text text-anchor=\"start\" x=\"1031\" y=\"-885.8\" font-family=\"Helvetica,sans-Serif\" font-size=\"14.00\">odor_n ≤ 0.5</text>\n<text text-anchor=\"start\" x=\"1041\" y=\"-870.8\" font-family=\"Helvetica,sans-Serif\" font-size=\"14.00\">gini = 0.5</text>\n<text text-anchor=\"start\" x=\"1020.5\" y=\"-855.8\" font-family=\"Helvetica,sans-Serif\" font-size=\"14.00\">samples = 6093</text>\n<text text-anchor=\"start\" x=\"996\" y=\"-840.8\" font-family=\"Helvetica,sans-Serif\" font-size=\"14.00\">value = [3046.5, 3046.5]</text>\n<text text-anchor=\"start\" x=\"1027.5\" y=\"-825.8\" font-family=\"Helvetica,sans-Serif\" font-size=\"14.00\">class = edible</text>\n</g>\n<!-- 1 -->\n<g id=\"node2\" class=\"node\">\n<title>1</title>\n<path fill=\"#ea9a61\" stroke=\"black\" d=\"M984.5,-782C984.5,-782 823.5,-782 823.5,-782 817.5,-782 811.5,-776 811.5,-770 811.5,-770 811.5,-711 811.5,-711 811.5,-705 817.5,-699 823.5,-699 823.5,-699 984.5,-699 984.5,-699 990.5,-699 996.5,-705 996.5,-711 996.5,-711 996.5,-770 996.5,-770 996.5,-776 990.5,-782 984.5,-782\"/>\n<text text-anchor=\"start\" x=\"852\" y=\"-766.8\" font-family=\"Helvetica,sans-Serif\" font-size=\"14.00\">stalk&#45;root_c ≤ 0.5</text>\n<text text-anchor=\"start\" x=\"872\" y=\"-751.8\" font-family=\"Helvetica,sans-Serif\" font-size=\"14.00\">gini = 0.28</text>\n<text text-anchor=\"start\" x=\"855.5\" y=\"-736.8\" font-family=\"Helvetica,sans-Serif\" font-size=\"14.00\">samples = 3488</text>\n<text text-anchor=\"start\" x=\"819.5\" y=\"-721.8\" font-family=\"Helvetica,sans-Serif\" font-size=\"14.00\">value = [2952.067, 596.627]</text>\n<text text-anchor=\"start\" x=\"849.5\" y=\"-706.8\" font-family=\"Helvetica,sans-Serif\" font-size=\"14.00\">class = poisonous</text>\n</g>\n<!-- 0&#45;&gt;1 -->\n<g id=\"edge1\" class=\"edge\">\n<title>0&#45;&gt;1</title>\n<path fill=\"none\" stroke=\"black\" d=\"M1011.75,-817.91C998.06,-808.2 983.34,-797.76 969.31,-787.81\"/>\n<polygon fill=\"black\" stroke=\"black\" points=\"971.33,-784.95 961.14,-782.02 967.28,-790.66 971.33,-784.95\"/>\n<text text-anchor=\"middle\" x=\"965.34\" y=\"-802.97\" font-family=\"Helvetica,sans-Serif\" font-size=\"14.00\">True</text>\n</g>\n<!-- 20 -->\n<g id=\"node21\" class=\"node\">\n<title>20</title>\n<path fill=\"#41a1e6\" stroke=\"black\" d=\"M1289.5,-782C1289.5,-782 1136.5,-782 1136.5,-782 1130.5,-782 1124.5,-776 1124.5,-770 1124.5,-770 1124.5,-711 1124.5,-711 1124.5,-705 1130.5,-699 1136.5,-699 1136.5,-699 1289.5,-699 1289.5,-699 1295.5,-699 1301.5,-705 1301.5,-711 1301.5,-711 1301.5,-770 1301.5,-770 1301.5,-776 1295.5,-782 1289.5,-782\"/>\n<text text-anchor=\"start\" x=\"1140.5\" y=\"-766.8\" font-family=\"Helvetica,sans-Serif\" font-size=\"14.00\">spore&#45;print&#45;color_r ≤ 0.5</text>\n<text text-anchor=\"start\" x=\"1177.5\" y=\"-751.8\" font-family=\"Helvetica,sans-Serif\" font-size=\"14.00\">gini = 0.071</text>\n<text text-anchor=\"start\" x=\"1164.5\" y=\"-736.8\" font-family=\"Helvetica,sans-Serif\" font-size=\"14.00\">samples = 2605</text>\n<text text-anchor=\"start\" x=\"1132.5\" y=\"-721.8\" font-family=\"Helvetica,sans-Serif\" font-size=\"14.00\">value = [94.433, 2449.873]</text>\n<text text-anchor=\"start\" x=\"1171.5\" y=\"-706.8\" font-family=\"Helvetica,sans-Serif\" font-size=\"14.00\">class = edible</text>\n</g>\n<!-- 0&#45;&gt;20 -->\n<g id=\"edge20\" class=\"edge\">\n<title>0&#45;&gt;20</title>\n<path fill=\"none\" stroke=\"black\" d=\"M1118.96,-817.91C1130.69,-808.38 1143.28,-798.15 1155.31,-788.37\"/>\n<polygon fill=\"black\" stroke=\"black\" points=\"1157.57,-791.04 1163.13,-782.02 1153.16,-785.61 1157.57,-791.04\"/>\n<text text-anchor=\"middle\" x=\"1160.56\" y=\"-803.19\" font-family=\"Helvetica,sans-Serif\" font-size=\"14.00\">False</text>\n</g>\n<!-- 2 -->\n<g id=\"node3\" class=\"node\">\n<title>2</title>\n<path fill=\"#e78a47\" stroke=\"black\" d=\"M742,-663C742,-663 558,-663 558,-663 552,-663 546,-657 546,-651 546,-651 546,-592 546,-592 546,-586 552,-580 558,-580 558,-580 742,-580 742,-580 748,-580 754,-586 754,-592 754,-592 754,-651 754,-651 754,-657 748,-663 742,-663\"/>\n<text text-anchor=\"start\" x=\"554\" y=\"-647.8\" font-family=\"Helvetica,sans-Serif\" font-size=\"14.00\">stalk&#45;surface&#45;below&#45;ring_y ≤ 0.5</text>\n<text text-anchor=\"start\" x=\"614.5\" y=\"-632.8\" font-family=\"Helvetica,sans-Serif\" font-size=\"14.00\">gini = 0.127</text>\n<text text-anchor=\"start\" x=\"601.5\" y=\"-617.8\" font-family=\"Helvetica,sans-Serif\" font-size=\"14.00\">samples = 3066</text>\n<text text-anchor=\"start\" x=\"573\" y=\"-602.8\" font-family=\"Helvetica,sans-Serif\" font-size=\"14.00\">value = [2922.3, 213.499]</text>\n<text text-anchor=\"start\" x=\"595.5\" y=\"-587.8\" font-family=\"Helvetica,sans-Serif\" font-size=\"14.00\">class = poisonous</text>\n</g>\n<!-- 1&#45;&gt;2 -->\n<g id=\"edge2\" class=\"edge\">\n<title>1&#45;&gt;2</title>\n<path fill=\"none\" stroke=\"black\" d=\"M815.88,-698.91C793.71,-688.7 769.8,-677.68 747.22,-667.28\"/>\n<polygon fill=\"black\" stroke=\"black\" points=\"748.52,-664.03 737.97,-663.02 745.59,-670.38 748.52,-664.03\"/>\n</g>\n<!-- 15 -->\n<g id=\"node16\" class=\"node\">\n<title>15</title>\n<path fill=\"#48a5e7\" stroke=\"black\" d=\"M977,-663C977,-663 831,-663 831,-663 825,-663 819,-657 819,-651 819,-651 819,-592 819,-592 819,-586 825,-580 831,-580 831,-580 977,-580 977,-580 983,-580 989,-586 989,-592 989,-592 989,-651 989,-651 989,-657 983,-663 977,-663\"/>\n<text text-anchor=\"start\" x=\"859.5\" y=\"-647.8\" font-family=\"Helvetica,sans-Serif\" font-size=\"14.00\">bruises_t ≤ 0.5</text>\n<text text-anchor=\"start\" x=\"868.5\" y=\"-632.8\" font-family=\"Helvetica,sans-Serif\" font-size=\"14.00\">gini = 0.134</text>\n<text text-anchor=\"start\" x=\"859\" y=\"-617.8\" font-family=\"Helvetica,sans-Serif\" font-size=\"14.00\">samples = 422</text>\n<text text-anchor=\"start\" x=\"827\" y=\"-602.8\" font-family=\"Helvetica,sans-Serif\" font-size=\"14.00\">value = [29.767, 383.128]</text>\n<text text-anchor=\"start\" x=\"862.5\" y=\"-587.8\" font-family=\"Helvetica,sans-Serif\" font-size=\"14.00\">class = edible</text>\n</g>\n<!-- 1&#45;&gt;15 -->\n<g id=\"edge15\" class=\"edge\">\n<title>1&#45;&gt;15</title>\n<path fill=\"none\" stroke=\"black\" d=\"M904,-698.91C904,-690.65 904,-681.86 904,-673.3\"/>\n<polygon fill=\"black\" stroke=\"black\" points=\"907.5,-673.02 904,-663.02 900.5,-673.02 907.5,-673.02\"/>\n</g>\n<!-- 3 -->\n<g id=\"node4\" class=\"node\">\n<title>3</title>\n<path fill=\"#e6843e\" stroke=\"black\" d=\"M463,-544C463,-544 325,-544 325,-544 319,-544 313,-538 313,-532 313,-532 313,-473 313,-473 313,-467 319,-461 325,-461 325,-461 463,-461 463,-461 469,-461 475,-467 475,-473 475,-473 475,-532 475,-532 475,-538 469,-544 463,-544\"/>\n<text text-anchor=\"start\" x=\"356\" y=\"-528.8\" font-family=\"Helvetica,sans-Serif\" font-size=\"14.00\">odor_a ≤ 0.5</text>\n<text text-anchor=\"start\" x=\"358.5\" y=\"-513.8\" font-family=\"Helvetica,sans-Serif\" font-size=\"14.00\">gini = 0.046</text>\n<text text-anchor=\"start\" x=\"345.5\" y=\"-498.8\" font-family=\"Helvetica,sans-Serif\" font-size=\"14.00\">samples = 2919</text>\n<text text-anchor=\"start\" x=\"321\" y=\"-483.8\" font-family=\"Helvetica,sans-Serif\" font-size=\"14.00\">value = [2922.3, 70.191]</text>\n<text text-anchor=\"start\" x=\"339.5\" y=\"-468.8\" font-family=\"Helvetica,sans-Serif\" font-size=\"14.00\">class = poisonous</text>\n</g>\n<!-- 2&#45;&gt;3 -->\n<g id=\"edge3\" class=\"edge\">\n<title>2&#45;&gt;3</title>\n<path fill=\"none\" stroke=\"black\" d=\"M561.18,-579.91C536.47,-568.61 509.6,-556.33 484.77,-544.99\"/>\n<polygon fill=\"black\" stroke=\"black\" points=\"485.92,-541.66 475.37,-540.69 483.01,-548.03 485.92,-541.66\"/>\n</g>\n<!-- 12 -->\n<g id=\"node13\" class=\"node\">\n<title>12</title>\n<path fill=\"#399de5\" stroke=\"black\" d=\"M711.5,-544C711.5,-544 588.5,-544 588.5,-544 582.5,-544 576.5,-538 576.5,-532 576.5,-532 576.5,-473 576.5,-473 576.5,-467 582.5,-461 588.5,-461 588.5,-461 711.5,-461 711.5,-461 717.5,-461 723.5,-467 723.5,-473 723.5,-473 723.5,-532 723.5,-532 723.5,-538 717.5,-544 711.5,-544\"/>\n<text text-anchor=\"start\" x=\"612\" y=\"-528.8\" font-family=\"Helvetica,sans-Serif\" font-size=\"14.00\">odor_a ≤ 0.5</text>\n<text text-anchor=\"start\" x=\"622\" y=\"-513.8\" font-family=\"Helvetica,sans-Serif\" font-size=\"14.00\">gini = 0.0</text>\n<text text-anchor=\"start\" x=\"605\" y=\"-498.8\" font-family=\"Helvetica,sans-Serif\" font-size=\"14.00\">samples = 147</text>\n<text text-anchor=\"start\" x=\"584.5\" y=\"-483.8\" font-family=\"Helvetica,sans-Serif\" font-size=\"14.00\">value = [0.0, 143.307]</text>\n<text text-anchor=\"start\" x=\"608.5\" y=\"-468.8\" font-family=\"Helvetica,sans-Serif\" font-size=\"14.00\">class = edible</text>\n</g>\n<!-- 2&#45;&gt;12 -->\n<g id=\"edge12\" class=\"edge\">\n<title>2&#45;&gt;12</title>\n<path fill=\"none\" stroke=\"black\" d=\"M650,-579.91C650,-571.65 650,-562.86 650,-554.3\"/>\n<polygon fill=\"black\" stroke=\"black\" points=\"653.5,-554.02 650,-544.02 646.5,-554.02 653.5,-554.02\"/>\n</g>\n<!-- 4 -->\n<g id=\"node5\" class=\"node\">\n<title>4</title>\n<path fill=\"#e5823b\" stroke=\"black\" d=\"M294,-425C294,-425 156,-425 156,-425 150,-425 144,-419 144,-413 144,-413 144,-354 144,-354 144,-348 150,-342 156,-342 156,-342 294,-342 294,-342 300,-342 306,-348 306,-354 306,-354 306,-413 306,-413 306,-419 300,-425 294,-425\"/>\n<text text-anchor=\"start\" x=\"189\" y=\"-409.8\" font-family=\"Helvetica,sans-Serif\" font-size=\"14.00\">odor_l ≤ 0.5</text>\n<text text-anchor=\"start\" x=\"189.5\" y=\"-394.8\" font-family=\"Helvetica,sans-Serif\" font-size=\"14.00\">gini = 0.022</text>\n<text text-anchor=\"start\" x=\"176.5\" y=\"-379.8\" font-family=\"Helvetica,sans-Serif\" font-size=\"14.00\">samples = 2881</text>\n<text text-anchor=\"start\" x=\"152\" y=\"-364.8\" font-family=\"Helvetica,sans-Serif\" font-size=\"14.00\">value = [2922.3, 33.146]</text>\n<text text-anchor=\"start\" x=\"170.5\" y=\"-349.8\" font-family=\"Helvetica,sans-Serif\" font-size=\"14.00\">class = poisonous</text>\n</g>\n<!-- 3&#45;&gt;4 -->\n<g id=\"edge4\" class=\"edge\">\n<title>3&#45;&gt;4</title>\n<path fill=\"none\" stroke=\"black\" d=\"M335.37,-460.91C321.34,-451.2 306.26,-440.76 291.89,-430.81\"/>\n<polygon fill=\"black\" stroke=\"black\" points=\"293.74,-427.84 283.53,-425.02 289.76,-433.59 293.74,-427.84\"/>\n</g>\n<!-- 9 -->\n<g id=\"node10\" class=\"node\">\n<title>9</title>\n<path fill=\"#399de5\" stroke=\"black\" d=\"M452,-425C452,-425 336,-425 336,-425 330,-425 324,-419 324,-413 324,-413 324,-354 324,-354 324,-348 330,-342 336,-342 336,-342 452,-342 452,-342 458,-342 464,-348 464,-354 464,-354 464,-413 464,-413 464,-419 458,-425 452,-425\"/>\n<text text-anchor=\"start\" x=\"342\" y=\"-409.8\" font-family=\"Helvetica,sans-Serif\" font-size=\"14.00\">cap&#45;color_y ≤ 0.5</text>\n<text text-anchor=\"start\" x=\"366\" y=\"-394.8\" font-family=\"Helvetica,sans-Serif\" font-size=\"14.00\">gini = 0.0</text>\n<text text-anchor=\"start\" x=\"353\" y=\"-379.8\" font-family=\"Helvetica,sans-Serif\" font-size=\"14.00\">samples = 38</text>\n<text text-anchor=\"start\" x=\"332\" y=\"-364.8\" font-family=\"Helvetica,sans-Serif\" font-size=\"14.00\">value = [0.0, 37.045]</text>\n<text text-anchor=\"start\" x=\"352.5\" y=\"-349.8\" font-family=\"Helvetica,sans-Serif\" font-size=\"14.00\">class = edible</text>\n</g>\n<!-- 3&#45;&gt;9 -->\n<g id=\"edge9\" class=\"edge\">\n<title>3&#45;&gt;9</title>\n<path fill=\"none\" stroke=\"black\" d=\"M394,-460.91C394,-452.65 394,-443.86 394,-435.3\"/>\n<polygon fill=\"black\" stroke=\"black\" points=\"397.5,-435.02 394,-425.02 390.5,-435.02 397.5,-435.02\"/>\n</g>\n<!-- 5 -->\n<g id=\"node6\" class=\"node\">\n<title>5</title>\n<path fill=\"#e58139\" stroke=\"black\" d=\"M128,-298.5C128,-298.5 12,-298.5 12,-298.5 6,-298.5 0,-292.5 0,-286.5 0,-286.5 0,-242.5 0,-242.5 0,-236.5 6,-230.5 12,-230.5 12,-230.5 128,-230.5 128,-230.5 134,-230.5 140,-236.5 140,-242.5 140,-242.5 140,-286.5 140,-286.5 140,-292.5 134,-298.5 128,-298.5\"/>\n<text text-anchor=\"start\" x=\"39.5\" y=\"-283.3\" font-family=\"Helvetica,sans-Serif\" font-size=\"14.00\">gini = &#45;0.0</text>\n<text text-anchor=\"start\" x=\"21.5\" y=\"-268.3\" font-family=\"Helvetica,sans-Serif\" font-size=\"14.00\">samples = 2847</text>\n<text text-anchor=\"start\" x=\"8\" y=\"-253.3\" font-family=\"Helvetica,sans-Serif\" font-size=\"14.00\">value = [2922.3, 0.0]</text>\n<text text-anchor=\"start\" x=\"15.5\" y=\"-238.3\" font-family=\"Helvetica,sans-Serif\" font-size=\"14.00\">class = poisonous</text>\n</g>\n<!-- 4&#45;&gt;5 -->\n<g id=\"edge5\" class=\"edge\">\n<title>4&#45;&gt;5</title>\n<path fill=\"none\" stroke=\"black\" d=\"M171.22,-341.91C155.29,-329.88 137.87,-316.73 122.05,-304.79\"/>\n<polygon fill=\"black\" stroke=\"black\" points=\"124.03,-301.9 113.94,-298.67 119.81,-307.49 124.03,-301.9\"/>\n</g>\n<!-- 6 -->\n<g id=\"node7\" class=\"node\">\n<title>6</title>\n<path fill=\"#399de5\" stroke=\"black\" d=\"M286,-306C286,-306 170,-306 170,-306 164,-306 158,-300 158,-294 158,-294 158,-235 158,-235 158,-229 164,-223 170,-223 170,-223 286,-223 286,-223 292,-223 298,-229 298,-235 298,-235 298,-294 298,-294 298,-300 292,-306 286,-306\"/>\n<text text-anchor=\"start\" x=\"173.5\" y=\"-290.8\" font-family=\"Helvetica,sans-Serif\" font-size=\"14.00\">cap&#45;shape_f ≤ 0.5</text>\n<text text-anchor=\"start\" x=\"200\" y=\"-275.8\" font-family=\"Helvetica,sans-Serif\" font-size=\"14.00\">gini = 0.0</text>\n<text text-anchor=\"start\" x=\"187\" y=\"-260.8\" font-family=\"Helvetica,sans-Serif\" font-size=\"14.00\">samples = 34</text>\n<text text-anchor=\"start\" x=\"166\" y=\"-245.8\" font-family=\"Helvetica,sans-Serif\" font-size=\"14.00\">value = [0.0, 33.146]</text>\n<text text-anchor=\"start\" x=\"186.5\" y=\"-230.8\" font-family=\"Helvetica,sans-Serif\" font-size=\"14.00\">class = edible</text>\n</g>\n<!-- 4&#45;&gt;6 -->\n<g id=\"edge6\" class=\"edge\">\n<title>4&#45;&gt;6</title>\n<path fill=\"none\" stroke=\"black\" d=\"M226.04,-341.91C226.25,-333.56 226.48,-324.67 226.7,-316.02\"/>\n<polygon fill=\"black\" stroke=\"black\" points=\"230.2,-316.11 226.96,-306.02 223.21,-315.93 230.2,-316.11\"/>\n</g>\n<!-- 7 -->\n<g id=\"node8\" class=\"node\">\n<title>7</title>\n<path fill=\"#399de5\" stroke=\"black\" d=\"M207,-179.5C207,-179.5 91,-179.5 91,-179.5 85,-179.5 79,-173.5 79,-167.5 79,-167.5 79,-123.5 79,-123.5 79,-117.5 85,-111.5 91,-111.5 91,-111.5 207,-111.5 207,-111.5 213,-111.5 219,-117.5 219,-123.5 219,-123.5 219,-167.5 219,-167.5 219,-173.5 213,-179.5 207,-179.5\"/>\n<text text-anchor=\"start\" x=\"121\" y=\"-164.3\" font-family=\"Helvetica,sans-Serif\" font-size=\"14.00\">gini = 0.0</text>\n<text text-anchor=\"start\" x=\"108\" y=\"-149.3\" font-family=\"Helvetica,sans-Serif\" font-size=\"14.00\">samples = 18</text>\n<text text-anchor=\"start\" x=\"87\" y=\"-134.3\" font-family=\"Helvetica,sans-Serif\" font-size=\"14.00\">value = [0.0, 17.548]</text>\n<text text-anchor=\"start\" x=\"107.5\" y=\"-119.3\" font-family=\"Helvetica,sans-Serif\" font-size=\"14.00\">class = edible</text>\n</g>\n<!-- 6&#45;&gt;7 -->\n<g id=\"edge7\" class=\"edge\">\n<title>6&#45;&gt;7</title>\n<path fill=\"none\" stroke=\"black\" d=\"M200.59,-222.91C192.99,-211.65 184.73,-199.42 177.09,-188.11\"/>\n<polygon fill=\"black\" stroke=\"black\" points=\"179.89,-186 171.39,-179.67 174.09,-189.91 179.89,-186\"/>\n</g>\n<!-- 8 -->\n<g id=\"node9\" class=\"node\">\n<title>8</title>\n<path fill=\"#399de5\" stroke=\"black\" d=\"M365,-179.5C365,-179.5 249,-179.5 249,-179.5 243,-179.5 237,-173.5 237,-167.5 237,-167.5 237,-123.5 237,-123.5 237,-117.5 243,-111.5 249,-111.5 249,-111.5 365,-111.5 365,-111.5 371,-111.5 377,-117.5 377,-123.5 377,-123.5 377,-167.5 377,-167.5 377,-173.5 371,-179.5 365,-179.5\"/>\n<text text-anchor=\"start\" x=\"279\" y=\"-164.3\" font-family=\"Helvetica,sans-Serif\" font-size=\"14.00\">gini = 0.0</text>\n<text text-anchor=\"start\" x=\"266\" y=\"-149.3\" font-family=\"Helvetica,sans-Serif\" font-size=\"14.00\">samples = 16</text>\n<text text-anchor=\"start\" x=\"245\" y=\"-134.3\" font-family=\"Helvetica,sans-Serif\" font-size=\"14.00\">value = [0.0, 15.598]</text>\n<text text-anchor=\"start\" x=\"265.5\" y=\"-119.3\" font-family=\"Helvetica,sans-Serif\" font-size=\"14.00\">class = edible</text>\n</g>\n<!-- 6&#45;&gt;8 -->\n<g id=\"edge8\" class=\"edge\">\n<title>6&#45;&gt;8</title>\n<path fill=\"none\" stroke=\"black\" d=\"M255.41,-222.91C263.01,-211.65 271.27,-199.42 278.91,-188.11\"/>\n<polygon fill=\"black\" stroke=\"black\" points=\"281.91,-189.91 284.61,-179.67 276.11,-186 281.91,-189.91\"/>\n</g>\n<!-- 10 -->\n<g id=\"node11\" class=\"node\">\n<title>10</title>\n<path fill=\"#399de5\" stroke=\"black\" d=\"M449,-298.5C449,-298.5 333,-298.5 333,-298.5 327,-298.5 321,-292.5 321,-286.5 321,-286.5 321,-242.5 321,-242.5 321,-236.5 327,-230.5 333,-230.5 333,-230.5 449,-230.5 449,-230.5 455,-230.5 461,-236.5 461,-242.5 461,-242.5 461,-286.5 461,-286.5 461,-292.5 455,-298.5 449,-298.5\"/>\n<text text-anchor=\"start\" x=\"363\" y=\"-283.3\" font-family=\"Helvetica,sans-Serif\" font-size=\"14.00\">gini = 0.0</text>\n<text text-anchor=\"start\" x=\"350\" y=\"-268.3\" font-family=\"Helvetica,sans-Serif\" font-size=\"14.00\">samples = 20</text>\n<text text-anchor=\"start\" x=\"329\" y=\"-253.3\" font-family=\"Helvetica,sans-Serif\" font-size=\"14.00\">value = [0.0, 19.498]</text>\n<text text-anchor=\"start\" x=\"349.5\" y=\"-238.3\" font-family=\"Helvetica,sans-Serif\" font-size=\"14.00\">class = edible</text>\n</g>\n<!-- 9&#45;&gt;10 -->\n<g id=\"edge10\" class=\"edge\">\n<title>9&#45;&gt;10</title>\n<path fill=\"none\" stroke=\"black\" d=\"M392.96,-341.91C392.68,-331.2 392.39,-319.62 392.11,-308.78\"/>\n<polygon fill=\"black\" stroke=\"black\" points=\"395.61,-308.57 391.85,-298.67 388.61,-308.75 395.61,-308.57\"/>\n</g>\n<!-- 11 -->\n<g id=\"node12\" class=\"node\">\n<title>11</title>\n<path fill=\"#399de5\" stroke=\"black\" d=\"M607,-298.5C607,-298.5 491,-298.5 491,-298.5 485,-298.5 479,-292.5 479,-286.5 479,-286.5 479,-242.5 479,-242.5 479,-236.5 485,-230.5 491,-230.5 491,-230.5 607,-230.5 607,-230.5 613,-230.5 619,-236.5 619,-242.5 619,-242.5 619,-286.5 619,-286.5 619,-292.5 613,-298.5 607,-298.5\"/>\n<text text-anchor=\"start\" x=\"521\" y=\"-283.3\" font-family=\"Helvetica,sans-Serif\" font-size=\"14.00\">gini = 0.0</text>\n<text text-anchor=\"start\" x=\"508\" y=\"-268.3\" font-family=\"Helvetica,sans-Serif\" font-size=\"14.00\">samples = 18</text>\n<text text-anchor=\"start\" x=\"487\" y=\"-253.3\" font-family=\"Helvetica,sans-Serif\" font-size=\"14.00\">value = [0.0, 17.548]</text>\n<text text-anchor=\"start\" x=\"507.5\" y=\"-238.3\" font-family=\"Helvetica,sans-Serif\" font-size=\"14.00\">class = edible</text>\n</g>\n<!-- 9&#45;&gt;11 -->\n<g id=\"edge11\" class=\"edge\">\n<title>9&#45;&gt;11</title>\n<path fill=\"none\" stroke=\"black\" d=\"M447.78,-341.91C463.71,-329.88 481.13,-316.73 496.95,-304.79\"/>\n<polygon fill=\"black\" stroke=\"black\" points=\"499.19,-307.49 505.06,-298.67 494.97,-301.9 499.19,-307.49\"/>\n</g>\n<!-- 13 -->\n<g id=\"node14\" class=\"node\">\n<title>13</title>\n<path fill=\"#399de5\" stroke=\"black\" d=\"M610,-417.5C610,-417.5 494,-417.5 494,-417.5 488,-417.5 482,-411.5 482,-405.5 482,-405.5 482,-361.5 482,-361.5 482,-355.5 488,-349.5 494,-349.5 494,-349.5 610,-349.5 610,-349.5 616,-349.5 622,-355.5 622,-361.5 622,-361.5 622,-405.5 622,-405.5 622,-411.5 616,-417.5 610,-417.5\"/>\n<text text-anchor=\"start\" x=\"524\" y=\"-402.3\" font-family=\"Helvetica,sans-Serif\" font-size=\"14.00\">gini = 0.0</text>\n<text text-anchor=\"start\" x=\"511\" y=\"-387.3\" font-family=\"Helvetica,sans-Serif\" font-size=\"14.00\">samples = 72</text>\n<text text-anchor=\"start\" x=\"490\" y=\"-372.3\" font-family=\"Helvetica,sans-Serif\" font-size=\"14.00\">value = [0.0, 70.191]</text>\n<text text-anchor=\"start\" x=\"510.5\" y=\"-357.3\" font-family=\"Helvetica,sans-Serif\" font-size=\"14.00\">class = edible</text>\n</g>\n<!-- 12&#45;&gt;13 -->\n<g id=\"edge13\" class=\"edge\">\n<title>12&#45;&gt;13</title>\n<path fill=\"none\" stroke=\"black\" d=\"M616,-460.91C606.39,-449.43 595.92,-436.94 586.29,-425.44\"/>\n<polygon fill=\"black\" stroke=\"black\" points=\"588.89,-423.09 579.78,-417.67 583.52,-427.58 588.89,-423.09\"/>\n</g>\n<!-- 14 -->\n<g id=\"node15\" class=\"node\">\n<title>14</title>\n<path fill=\"#399de5\" stroke=\"black\" d=\"M768,-417.5C768,-417.5 652,-417.5 652,-417.5 646,-417.5 640,-411.5 640,-405.5 640,-405.5 640,-361.5 640,-361.5 640,-355.5 646,-349.5 652,-349.5 652,-349.5 768,-349.5 768,-349.5 774,-349.5 780,-355.5 780,-361.5 780,-361.5 780,-405.5 780,-405.5 780,-411.5 774,-417.5 768,-417.5\"/>\n<text text-anchor=\"start\" x=\"682\" y=\"-402.3\" font-family=\"Helvetica,sans-Serif\" font-size=\"14.00\">gini = 0.0</text>\n<text text-anchor=\"start\" x=\"669\" y=\"-387.3\" font-family=\"Helvetica,sans-Serif\" font-size=\"14.00\">samples = 75</text>\n<text text-anchor=\"start\" x=\"648\" y=\"-372.3\" font-family=\"Helvetica,sans-Serif\" font-size=\"14.00\">value = [0.0, 73.116]</text>\n<text text-anchor=\"start\" x=\"668.5\" y=\"-357.3\" font-family=\"Helvetica,sans-Serif\" font-size=\"14.00\">class = edible</text>\n</g>\n<!-- 12&#45;&gt;14 -->\n<g id=\"edge14\" class=\"edge\">\n<title>12&#45;&gt;14</title>\n<path fill=\"none\" stroke=\"black\" d=\"M670.82,-460.91C676.48,-449.87 682.62,-437.9 688.32,-426.77\"/>\n<polygon fill=\"black\" stroke=\"black\" points=\"691.54,-428.16 692.99,-417.67 685.31,-424.97 691.54,-428.16\"/>\n</g>\n<!-- 16 -->\n<g id=\"node17\" class=\"node\">\n<title>16</title>\n<path fill=\"#e58139\" stroke=\"black\" d=\"M916,-536.5C916,-536.5 800,-536.5 800,-536.5 794,-536.5 788,-530.5 788,-524.5 788,-524.5 788,-480.5 788,-480.5 788,-474.5 794,-468.5 800,-468.5 800,-468.5 916,-468.5 916,-468.5 922,-468.5 928,-474.5 928,-480.5 928,-480.5 928,-524.5 928,-524.5 928,-530.5 922,-536.5 916,-536.5\"/>\n<text text-anchor=\"start\" x=\"830\" y=\"-521.3\" font-family=\"Helvetica,sans-Serif\" font-size=\"14.00\">gini = 0.0</text>\n<text text-anchor=\"start\" x=\"817\" y=\"-506.3\" font-family=\"Helvetica,sans-Serif\" font-size=\"14.00\">samples = 29</text>\n<text text-anchor=\"start\" x=\"796\" y=\"-491.3\" font-family=\"Helvetica,sans-Serif\" font-size=\"14.00\">value = [29.767, 0.0]</text>\n<text text-anchor=\"start\" x=\"803.5\" y=\"-476.3\" font-family=\"Helvetica,sans-Serif\" font-size=\"14.00\">class = poisonous</text>\n</g>\n<!-- 15&#45;&gt;16 -->\n<g id=\"edge16\" class=\"edge\">\n<title>15&#45;&gt;16</title>\n<path fill=\"none\" stroke=\"black\" d=\"M888.04,-579.91C883.75,-568.98 879.09,-557.14 874.75,-546.11\"/>\n<polygon fill=\"black\" stroke=\"black\" points=\"877.96,-544.69 871.04,-536.67 871.44,-547.25 877.96,-544.69\"/>\n</g>\n<!-- 17 -->\n<g id=\"node18\" class=\"node\">\n<title>17</title>\n<path fill=\"#399de5\" stroke=\"black\" d=\"M1081.5,-544C1081.5,-544 958.5,-544 958.5,-544 952.5,-544 946.5,-538 946.5,-532 946.5,-532 946.5,-473 946.5,-473 946.5,-467 952.5,-461 958.5,-461 958.5,-461 1081.5,-461 1081.5,-461 1087.5,-461 1093.5,-467 1093.5,-473 1093.5,-473 1093.5,-532 1093.5,-532 1093.5,-538 1087.5,-544 1081.5,-544\"/>\n<text text-anchor=\"start\" x=\"970\" y=\"-528.8\" font-family=\"Helvetica,sans-Serif\" font-size=\"14.00\">gill&#45;color_g ≤ 0.5</text>\n<text text-anchor=\"start\" x=\"992\" y=\"-513.8\" font-family=\"Helvetica,sans-Serif\" font-size=\"14.00\">gini = 0.0</text>\n<text text-anchor=\"start\" x=\"975\" y=\"-498.8\" font-family=\"Helvetica,sans-Serif\" font-size=\"14.00\">samples = 393</text>\n<text text-anchor=\"start\" x=\"954.5\" y=\"-483.8\" font-family=\"Helvetica,sans-Serif\" font-size=\"14.00\">value = [0.0, 383.128]</text>\n<text text-anchor=\"start\" x=\"978.5\" y=\"-468.8\" font-family=\"Helvetica,sans-Serif\" font-size=\"14.00\">class = edible</text>\n</g>\n<!-- 15&#45;&gt;17 -->\n<g id=\"edge17\" class=\"edge\">\n<title>15&#45;&gt;17</title>\n<path fill=\"none\" stroke=\"black\" d=\"M944.25,-579.91C953.42,-570.65 963.26,-560.73 972.7,-551.21\"/>\n<polygon fill=\"black\" stroke=\"black\" points=\"975.27,-553.59 979.83,-544.02 970.3,-548.66 975.27,-553.59\"/>\n</g>\n<!-- 18 -->\n<g id=\"node19\" class=\"node\">\n<title>18</title>\n<path fill=\"#399de5\" stroke=\"black\" d=\"M933.5,-417.5C933.5,-417.5 810.5,-417.5 810.5,-417.5 804.5,-417.5 798.5,-411.5 798.5,-405.5 798.5,-405.5 798.5,-361.5 798.5,-361.5 798.5,-355.5 804.5,-349.5 810.5,-349.5 810.5,-349.5 933.5,-349.5 933.5,-349.5 939.5,-349.5 945.5,-355.5 945.5,-361.5 945.5,-361.5 945.5,-405.5 945.5,-405.5 945.5,-411.5 939.5,-417.5 933.5,-417.5\"/>\n<text text-anchor=\"start\" x=\"844\" y=\"-402.3\" font-family=\"Helvetica,sans-Serif\" font-size=\"14.00\">gini = 0.0</text>\n<text text-anchor=\"start\" x=\"827\" y=\"-387.3\" font-family=\"Helvetica,sans-Serif\" font-size=\"14.00\">samples = 296</text>\n<text text-anchor=\"start\" x=\"806.5\" y=\"-372.3\" font-family=\"Helvetica,sans-Serif\" font-size=\"14.00\">value = [0.0, 288.564]</text>\n<text text-anchor=\"start\" x=\"830.5\" y=\"-357.3\" font-family=\"Helvetica,sans-Serif\" font-size=\"14.00\">class = edible</text>\n</g>\n<!-- 17&#45;&gt;18 -->\n<g id=\"edge18\" class=\"edge\">\n<title>17&#45;&gt;18</title>\n<path fill=\"none\" stroke=\"black\" d=\"M968.65,-460.91C953.58,-448.99 937.11,-435.98 922.12,-424.12\"/>\n<polygon fill=\"black\" stroke=\"black\" points=\"923.97,-421.12 913.95,-417.67 919.63,-426.61 923.97,-421.12\"/>\n</g>\n<!-- 19 -->\n<g id=\"node20\" class=\"node\">\n<title>19</title>\n<path fill=\"#399de5\" stroke=\"black\" d=\"M1092,-417.5C1092,-417.5 976,-417.5 976,-417.5 970,-417.5 964,-411.5 964,-405.5 964,-405.5 964,-361.5 964,-361.5 964,-355.5 970,-349.5 976,-349.5 976,-349.5 1092,-349.5 1092,-349.5 1098,-349.5 1104,-355.5 1104,-361.5 1104,-361.5 1104,-405.5 1104,-405.5 1104,-411.5 1098,-417.5 1092,-417.5\"/>\n<text text-anchor=\"start\" x=\"1006\" y=\"-402.3\" font-family=\"Helvetica,sans-Serif\" font-size=\"14.00\">gini = 0.0</text>\n<text text-anchor=\"start\" x=\"993\" y=\"-387.3\" font-family=\"Helvetica,sans-Serif\" font-size=\"14.00\">samples = 97</text>\n<text text-anchor=\"start\" x=\"972\" y=\"-372.3\" font-family=\"Helvetica,sans-Serif\" font-size=\"14.00\">value = [0.0, 94.563]</text>\n<text text-anchor=\"start\" x=\"992.5\" y=\"-357.3\" font-family=\"Helvetica,sans-Serif\" font-size=\"14.00\">class = edible</text>\n</g>\n<!-- 17&#45;&gt;19 -->\n<g id=\"edge19\" class=\"edge\">\n<title>17&#45;&gt;19</title>\n<path fill=\"none\" stroke=\"black\" d=\"M1024.86,-460.91C1026.14,-450.2 1027.52,-438.62 1028.82,-427.78\"/>\n<polygon fill=\"black\" stroke=\"black\" points=\"1032.32,-428.01 1030.03,-417.67 1025.37,-427.18 1032.32,-428.01\"/>\n</g>\n<!-- 21 -->\n<g id=\"node22\" class=\"node\">\n<title>21</title>\n<path fill=\"#3c9fe5\" stroke=\"black\" d=\"M1305,-663C1305,-663 1121,-663 1121,-663 1115,-663 1109,-657 1109,-651 1109,-651 1109,-592 1109,-592 1109,-586 1115,-580 1121,-580 1121,-580 1305,-580 1305,-580 1311,-580 1317,-586 1317,-592 1317,-592 1317,-651 1317,-651 1317,-657 1311,-663 1305,-663\"/>\n<text text-anchor=\"start\" x=\"1117\" y=\"-647.8\" font-family=\"Helvetica,sans-Serif\" font-size=\"14.00\">stalk&#45;surface&#45;below&#45;ring_y ≤ 0.5</text>\n<text text-anchor=\"start\" x=\"1177.5\" y=\"-632.8\" font-family=\"Helvetica,sans-Serif\" font-size=\"14.00\">gini = 0.032</text>\n<text text-anchor=\"start\" x=\"1164.5\" y=\"-617.8\" font-family=\"Helvetica,sans-Serif\" font-size=\"14.00\">samples = 2553</text>\n<text text-anchor=\"start\" x=\"1132.5\" y=\"-602.8\" font-family=\"Helvetica,sans-Serif\" font-size=\"14.00\">value = [41.058, 2449.873]</text>\n<text text-anchor=\"start\" x=\"1171.5\" y=\"-587.8\" font-family=\"Helvetica,sans-Serif\" font-size=\"14.00\">class = edible</text>\n</g>\n<!-- 20&#45;&gt;21 -->\n<g id=\"edge21\" class=\"edge\">\n<title>20&#45;&gt;21</title>\n<path fill=\"none\" stroke=\"black\" d=\"M1213,-698.91C1213,-690.65 1213,-681.86 1213,-673.3\"/>\n<polygon fill=\"black\" stroke=\"black\" points=\"1216.5,-673.02 1213,-663.02 1209.5,-673.02 1216.5,-673.02\"/>\n</g>\n<!-- 36 -->\n<g id=\"node37\" class=\"node\">\n<title>36</title>\n<path fill=\"#e58139\" stroke=\"black\" d=\"M1463,-655.5C1463,-655.5 1347,-655.5 1347,-655.5 1341,-655.5 1335,-649.5 1335,-643.5 1335,-643.5 1335,-599.5 1335,-599.5 1335,-593.5 1341,-587.5 1347,-587.5 1347,-587.5 1463,-587.5 1463,-587.5 1469,-587.5 1475,-593.5 1475,-599.5 1475,-599.5 1475,-643.5 1475,-643.5 1475,-649.5 1469,-655.5 1463,-655.5\"/>\n<text text-anchor=\"start\" x=\"1374.5\" y=\"-640.3\" font-family=\"Helvetica,sans-Serif\" font-size=\"14.00\">gini = &#45;0.0</text>\n<text text-anchor=\"start\" x=\"1364\" y=\"-625.3\" font-family=\"Helvetica,sans-Serif\" font-size=\"14.00\">samples = 52</text>\n<text text-anchor=\"start\" x=\"1343\" y=\"-610.3\" font-family=\"Helvetica,sans-Serif\" font-size=\"14.00\">value = [53.375, 0.0]</text>\n<text text-anchor=\"start\" x=\"1350.5\" y=\"-595.3\" font-family=\"Helvetica,sans-Serif\" font-size=\"14.00\">class = poisonous</text>\n</g>\n<!-- 20&#45;&gt;36 -->\n<g id=\"edge36\" class=\"edge\">\n<title>20&#45;&gt;36</title>\n<path fill=\"none\" stroke=\"black\" d=\"M1279.61,-698.91C1299.8,-686.6 1321.91,-673.13 1341.87,-660.97\"/>\n<polygon fill=\"black\" stroke=\"black\" points=\"1343.85,-663.86 1350.57,-655.67 1340.21,-657.88 1343.85,-663.86\"/>\n</g>\n<!-- 22 -->\n<g id=\"node23\" class=\"node\">\n<title>22</title>\n<path fill=\"#399de5\" stroke=\"black\" d=\"M1278.5,-544C1278.5,-544 1147.5,-544 1147.5,-544 1141.5,-544 1135.5,-538 1135.5,-532 1135.5,-532 1135.5,-473 1135.5,-473 1135.5,-467 1141.5,-461 1147.5,-461 1147.5,-461 1278.5,-461 1278.5,-461 1284.5,-461 1290.5,-467 1290.5,-473 1290.5,-473 1290.5,-532 1290.5,-532 1290.5,-538 1284.5,-544 1278.5,-544\"/>\n<text text-anchor=\"start\" x=\"1153\" y=\"-528.8\" font-family=\"Helvetica,sans-Serif\" font-size=\"14.00\">cap&#45;surface_g ≤ 0.5</text>\n<text text-anchor=\"start\" x=\"1177.5\" y=\"-513.8\" font-family=\"Helvetica,sans-Serif\" font-size=\"14.00\">gini = 0.004</text>\n<text text-anchor=\"start\" x=\"1164.5\" y=\"-498.8\" font-family=\"Helvetica,sans-Serif\" font-size=\"14.00\">samples = 2505</text>\n<text text-anchor=\"start\" x=\"1143.5\" y=\"-483.8\" font-family=\"Helvetica,sans-Serif\" font-size=\"14.00\">value = [5.132, 2437.2]</text>\n<text text-anchor=\"start\" x=\"1171.5\" y=\"-468.8\" font-family=\"Helvetica,sans-Serif\" font-size=\"14.00\">class = edible</text>\n</g>\n<!-- 21&#45;&gt;22 -->\n<g id=\"edge22\" class=\"edge\">\n<title>21&#45;&gt;22</title>\n<path fill=\"none\" stroke=\"black\" d=\"M1213,-579.91C1213,-571.65 1213,-562.86 1213,-554.3\"/>\n<polygon fill=\"black\" stroke=\"black\" points=\"1216.5,-554.02 1213,-544.02 1209.5,-554.02 1216.5,-554.02\"/>\n</g>\n<!-- 33 -->\n<g id=\"node34\" class=\"node\">\n<title>33</title>\n<path fill=\"#eead7f\" stroke=\"black\" d=\"M1585,-544C1585,-544 1447,-544 1447,-544 1441,-544 1435,-538 1435,-532 1435,-532 1435,-473 1435,-473 1435,-467 1441,-461 1447,-461 1447,-461 1585,-461 1585,-461 1591,-461 1597,-467 1597,-473 1597,-473 1597,-532 1597,-532 1597,-538 1591,-544 1585,-544\"/>\n<text text-anchor=\"start\" x=\"1454.5\" y=\"-528.8\" font-family=\"Helvetica,sans-Serif\" font-size=\"14.00\">ring&#45;number_o ≤ 0.5</text>\n<text text-anchor=\"start\" x=\"1480.5\" y=\"-513.8\" font-family=\"Helvetica,sans-Serif\" font-size=\"14.00\">gini = 0.386</text>\n<text text-anchor=\"start\" x=\"1475\" y=\"-498.8\" font-family=\"Helvetica,sans-Serif\" font-size=\"14.00\">samples = 48</text>\n<text text-anchor=\"start\" x=\"1443\" y=\"-483.8\" font-family=\"Helvetica,sans-Serif\" font-size=\"14.00\">value = [35.926, 12.673]</text>\n<text text-anchor=\"start\" x=\"1461.5\" y=\"-468.8\" font-family=\"Helvetica,sans-Serif\" font-size=\"14.00\">class = poisonous</text>\n</g>\n<!-- 21&#45;&gt;33 -->\n<g id=\"edge33\" class=\"edge\">\n<title>21&#45;&gt;33</title>\n<path fill=\"none\" stroke=\"black\" d=\"M1317.28,-580.24C1352.48,-566.64 1391.47,-551.59 1425.52,-538.44\"/>\n<polygon fill=\"black\" stroke=\"black\" points=\"1426.92,-541.65 1434.99,-534.78 1424.4,-535.12 1426.92,-541.65\"/>\n</g>\n<!-- 23 -->\n<g id=\"node24\" class=\"node\">\n<title>23</title>\n<path fill=\"#399de5\" stroke=\"black\" d=\"M1265.5,-425C1265.5,-425 1134.5,-425 1134.5,-425 1128.5,-425 1122.5,-419 1122.5,-413 1122.5,-413 1122.5,-354 1122.5,-354 1122.5,-348 1128.5,-342 1134.5,-342 1134.5,-342 1265.5,-342 1265.5,-342 1271.5,-342 1277.5,-348 1277.5,-354 1277.5,-354 1277.5,-413 1277.5,-413 1277.5,-419 1271.5,-425 1265.5,-425\"/>\n<text text-anchor=\"start\" x=\"1144\" y=\"-409.8\" font-family=\"Helvetica,sans-Serif\" font-size=\"14.00\">cap&#45;shape_c ≤ 0.5</text>\n<text text-anchor=\"start\" x=\"1164.5\" y=\"-394.8\" font-family=\"Helvetica,sans-Serif\" font-size=\"14.00\">gini = 0.002</text>\n<text text-anchor=\"start\" x=\"1151.5\" y=\"-379.8\" font-family=\"Helvetica,sans-Serif\" font-size=\"14.00\">samples = 2502</text>\n<text text-anchor=\"start\" x=\"1130.5\" y=\"-364.8\" font-family=\"Helvetica,sans-Serif\" font-size=\"14.00\">value = [2.053, 2437.2]</text>\n<text text-anchor=\"start\" x=\"1158.5\" y=\"-349.8\" font-family=\"Helvetica,sans-Serif\" font-size=\"14.00\">class = edible</text>\n</g>\n<!-- 22&#45;&gt;23 -->\n<g id=\"edge23\" class=\"edge\">\n<title>22&#45;&gt;23</title>\n<path fill=\"none\" stroke=\"black\" d=\"M1208.49,-460.91C1207.56,-452.56 1206.57,-443.67 1205.61,-435.02\"/>\n<polygon fill=\"black\" stroke=\"black\" points=\"1209.09,-434.57 1204.5,-425.02 1202.13,-435.35 1209.09,-434.57\"/>\n</g>\n<!-- 32 -->\n<g id=\"node33\" class=\"node\">\n<title>32</title>\n<path fill=\"#e58139\" stroke=\"black\" d=\"M1416,-417.5C1416,-417.5 1308,-417.5 1308,-417.5 1302,-417.5 1296,-411.5 1296,-405.5 1296,-405.5 1296,-361.5 1296,-361.5 1296,-355.5 1302,-349.5 1308,-349.5 1308,-349.5 1416,-349.5 1416,-349.5 1422,-349.5 1428,-355.5 1428,-361.5 1428,-361.5 1428,-405.5 1428,-405.5 1428,-411.5 1422,-417.5 1416,-417.5\"/>\n<text text-anchor=\"start\" x=\"1331.5\" y=\"-402.3\" font-family=\"Helvetica,sans-Serif\" font-size=\"14.00\">gini = &#45;0.0</text>\n<text text-anchor=\"start\" x=\"1324.5\" y=\"-387.3\" font-family=\"Helvetica,sans-Serif\" font-size=\"14.00\">samples = 3</text>\n<text text-anchor=\"start\" x=\"1304\" y=\"-372.3\" font-family=\"Helvetica,sans-Serif\" font-size=\"14.00\">value = [3.079, 0.0]</text>\n<text text-anchor=\"start\" x=\"1307.5\" y=\"-357.3\" font-family=\"Helvetica,sans-Serif\" font-size=\"14.00\">class = poisonous</text>\n</g>\n<!-- 22&#45;&gt;32 -->\n<g id=\"edge32\" class=\"edge\">\n<title>22&#45;&gt;32</title>\n<path fill=\"none\" stroke=\"black\" d=\"M1264.69,-460.91C1279.87,-448.99 1296.45,-435.98 1311.54,-424.12\"/>\n<polygon fill=\"black\" stroke=\"black\" points=\"1314.06,-426.6 1319.76,-417.67 1309.74,-421.09 1314.06,-426.6\"/>\n</g>\n<!-- 24 -->\n<g id=\"node25\" class=\"node\">\n<title>24</title>\n<path fill=\"#399de5\" stroke=\"black\" d=\"M1184.5,-306C1184.5,-306 1053.5,-306 1053.5,-306 1047.5,-306 1041.5,-300 1041.5,-294 1041.5,-294 1041.5,-235 1041.5,-235 1041.5,-229 1047.5,-223 1053.5,-223 1053.5,-223 1184.5,-223 1184.5,-223 1190.5,-223 1196.5,-229 1196.5,-235 1196.5,-235 1196.5,-294 1196.5,-294 1196.5,-300 1190.5,-306 1184.5,-306\"/>\n<text text-anchor=\"start\" x=\"1072\" y=\"-290.8\" font-family=\"Helvetica,sans-Serif\" font-size=\"14.00\">gill&#45;size_n ≤ 0.5</text>\n<text text-anchor=\"start\" x=\"1083.5\" y=\"-275.8\" font-family=\"Helvetica,sans-Serif\" font-size=\"14.00\">gini = 0.001</text>\n<text text-anchor=\"start\" x=\"1070.5\" y=\"-260.8\" font-family=\"Helvetica,sans-Serif\" font-size=\"14.00\">samples = 2501</text>\n<text text-anchor=\"start\" x=\"1049.5\" y=\"-245.8\" font-family=\"Helvetica,sans-Serif\" font-size=\"14.00\">value = [1.026, 2437.2]</text>\n<text text-anchor=\"start\" x=\"1077.5\" y=\"-230.8\" font-family=\"Helvetica,sans-Serif\" font-size=\"14.00\">class = edible</text>\n</g>\n<!-- 23&#45;&gt;24 -->\n<g id=\"edge24\" class=\"edge\">\n<title>23&#45;&gt;24</title>\n<path fill=\"none\" stroke=\"black\" d=\"M1171.9,-341.91C1165.74,-333.01 1159.16,-323.51 1152.81,-314.33\"/>\n<polygon fill=\"black\" stroke=\"black\" points=\"1155.62,-312.25 1147.05,-306.02 1149.87,-316.24 1155.62,-312.25\"/>\n</g>\n<!-- 31 -->\n<g id=\"node32\" class=\"node\">\n<title>31</title>\n<path fill=\"#e58139\" stroke=\"black\" d=\"M1335,-298.5C1335,-298.5 1227,-298.5 1227,-298.5 1221,-298.5 1215,-292.5 1215,-286.5 1215,-286.5 1215,-242.5 1215,-242.5 1215,-236.5 1221,-230.5 1227,-230.5 1227,-230.5 1335,-230.5 1335,-230.5 1341,-230.5 1347,-236.5 1347,-242.5 1347,-242.5 1347,-286.5 1347,-286.5 1347,-292.5 1341,-298.5 1335,-298.5\"/>\n<text text-anchor=\"start\" x=\"1250.5\" y=\"-283.3\" font-family=\"Helvetica,sans-Serif\" font-size=\"14.00\">gini = &#45;0.0</text>\n<text text-anchor=\"start\" x=\"1243.5\" y=\"-268.3\" font-family=\"Helvetica,sans-Serif\" font-size=\"14.00\">samples = 1</text>\n<text text-anchor=\"start\" x=\"1223\" y=\"-253.3\" font-family=\"Helvetica,sans-Serif\" font-size=\"14.00\">value = [1.026, 0.0]</text>\n<text text-anchor=\"start\" x=\"1226.5\" y=\"-238.3\" font-family=\"Helvetica,sans-Serif\" font-size=\"14.00\">class = poisonous</text>\n</g>\n<!-- 23&#45;&gt;31 -->\n<g id=\"edge31\" class=\"edge\">\n<title>23&#45;&gt;31</title>\n<path fill=\"none\" stroke=\"black\" d=\"M1228.1,-341.91C1235.89,-330.65 1244.36,-318.42 1252.2,-307.11\"/>\n<polygon fill=\"black\" stroke=\"black\" points=\"1255.22,-308.88 1258.04,-298.67 1249.47,-304.9 1255.22,-308.88\"/>\n</g>\n<!-- 25 -->\n<g id=\"node26\" class=\"node\">\n<title>25</title>\n<path fill=\"#399de5\" stroke=\"black\" d=\"M1095.5,-187C1095.5,-187 964.5,-187 964.5,-187 958.5,-187 952.5,-181 952.5,-175 952.5,-175 952.5,-116 952.5,-116 952.5,-110 958.5,-104 964.5,-104 964.5,-104 1095.5,-104 1095.5,-104 1101.5,-104 1107.5,-110 1107.5,-116 1107.5,-116 1107.5,-175 1107.5,-175 1107.5,-181 1101.5,-187 1095.5,-187\"/>\n<text text-anchor=\"start\" x=\"980\" y=\"-171.8\" font-family=\"Helvetica,sans-Serif\" font-size=\"14.00\">gill&#45;color_n ≤ 0.5</text>\n<text text-anchor=\"start\" x=\"1002\" y=\"-156.8\" font-family=\"Helvetica,sans-Serif\" font-size=\"14.00\">gini = 0.0</text>\n<text text-anchor=\"start\" x=\"981.5\" y=\"-141.8\" font-family=\"Helvetica,sans-Serif\" font-size=\"14.00\">samples = 2363</text>\n<text text-anchor=\"start\" x=\"960.5\" y=\"-126.8\" font-family=\"Helvetica,sans-Serif\" font-size=\"14.00\">value = [0.0, 2303.641]</text>\n<text text-anchor=\"start\" x=\"988.5\" y=\"-111.8\" font-family=\"Helvetica,sans-Serif\" font-size=\"14.00\">class = edible</text>\n</g>\n<!-- 24&#45;&gt;25 -->\n<g id=\"edge25\" class=\"edge\">\n<title>24&#45;&gt;25</title>\n<path fill=\"none\" stroke=\"black\" d=\"M1088.12,-222.91C1081.29,-213.92 1073.98,-204.32 1066.93,-195.05\"/>\n<polygon fill=\"black\" stroke=\"black\" points=\"1069.66,-192.86 1060.82,-187.02 1064.09,-197.1 1069.66,-192.86\"/>\n</g>\n<!-- 28 -->\n<g id=\"node29\" class=\"node\">\n<title>28</title>\n<path fill=\"#3b9ee5\" stroke=\"black\" d=\"M1276,-187C1276,-187 1138,-187 1138,-187 1132,-187 1126,-181 1126,-175 1126,-175 1126,-116 1126,-116 1126,-110 1132,-104 1138,-104 1138,-104 1276,-104 1276,-104 1282,-104 1288,-110 1288,-116 1288,-116 1288,-175 1288,-175 1288,-181 1282,-187 1276,-187\"/>\n<text text-anchor=\"start\" x=\"1162.5\" y=\"-171.8\" font-family=\"Helvetica,sans-Serif\" font-size=\"14.00\">bruises_f ≤ 0.5</text>\n<text text-anchor=\"start\" x=\"1171.5\" y=\"-156.8\" font-family=\"Helvetica,sans-Serif\" font-size=\"14.00\">gini = 0.015</text>\n<text text-anchor=\"start\" x=\"1162\" y=\"-141.8\" font-family=\"Helvetica,sans-Serif\" font-size=\"14.00\">samples = 138</text>\n<text text-anchor=\"start\" x=\"1134\" y=\"-126.8\" font-family=\"Helvetica,sans-Serif\" font-size=\"14.00\">value = [1.026, 133.559]</text>\n<text text-anchor=\"start\" x=\"1165.5\" y=\"-111.8\" font-family=\"Helvetica,sans-Serif\" font-size=\"14.00\">class = edible</text>\n</g>\n<!-- 24&#45;&gt;28 -->\n<g id=\"edge28\" class=\"edge\">\n<title>24&#45;&gt;28</title>\n<path fill=\"none\" stroke=\"black\" d=\"M1149.53,-222.91C1156.29,-213.92 1163.52,-204.32 1170.48,-195.05\"/>\n<polygon fill=\"black\" stroke=\"black\" points=\"1173.31,-197.12 1176.52,-187.02 1167.71,-192.91 1173.31,-197.12\"/>\n</g>\n<!-- 26 -->\n<g id=\"node27\" class=\"node\">\n<title>26</title>\n<path fill=\"#399de5\" stroke=\"black\" d=\"M931.5,-68C931.5,-68 800.5,-68 800.5,-68 794.5,-68 788.5,-62 788.5,-56 788.5,-56 788.5,-12 788.5,-12 788.5,-6 794.5,0 800.5,0 800.5,0 931.5,0 931.5,0 937.5,0 943.5,-6 943.5,-12 943.5,-12 943.5,-56 943.5,-56 943.5,-62 937.5,-68 931.5,-68\"/>\n<text text-anchor=\"start\" x=\"838\" y=\"-52.8\" font-family=\"Helvetica,sans-Serif\" font-size=\"14.00\">gini = 0.0</text>\n<text text-anchor=\"start\" x=\"817.5\" y=\"-37.8\" font-family=\"Helvetica,sans-Serif\" font-size=\"14.00\">samples = 1846</text>\n<text text-anchor=\"start\" x=\"796.5\" y=\"-22.8\" font-family=\"Helvetica,sans-Serif\" font-size=\"14.00\">value = [0.0, 1799.628]</text>\n<text text-anchor=\"start\" x=\"824.5\" y=\"-7.8\" font-family=\"Helvetica,sans-Serif\" font-size=\"14.00\">class = edible</text>\n</g>\n<!-- 25&#45;&gt;26 -->\n<g id=\"edge26\" class=\"edge\">\n<title>25&#45;&gt;26</title>\n<path fill=\"none\" stroke=\"black\" d=\"M968.93,-103.73C954.24,-93.92 938.59,-83.46 924.04,-73.75\"/>\n<polygon fill=\"black\" stroke=\"black\" points=\"925.87,-70.77 915.61,-68.13 921.99,-76.59 925.87,-70.77\"/>\n</g>\n<!-- 27 -->\n<g id=\"node28\" class=\"node\">\n<title>27</title>\n<path fill=\"#399de5\" stroke=\"black\" d=\"M1096.5,-68C1096.5,-68 973.5,-68 973.5,-68 967.5,-68 961.5,-62 961.5,-56 961.5,-56 961.5,-12 961.5,-12 961.5,-6 967.5,0 973.5,0 973.5,0 1096.5,0 1096.5,0 1102.5,0 1108.5,-6 1108.5,-12 1108.5,-12 1108.5,-56 1108.5,-56 1108.5,-62 1102.5,-68 1096.5,-68\"/>\n<text text-anchor=\"start\" x=\"1007\" y=\"-52.8\" font-family=\"Helvetica,sans-Serif\" font-size=\"14.00\">gini = 0.0</text>\n<text text-anchor=\"start\" x=\"990\" y=\"-37.8\" font-family=\"Helvetica,sans-Serif\" font-size=\"14.00\">samples = 517</text>\n<text text-anchor=\"start\" x=\"969.5\" y=\"-22.8\" font-family=\"Helvetica,sans-Serif\" font-size=\"14.00\">value = [0.0, 504.013]</text>\n<text text-anchor=\"start\" x=\"993.5\" y=\"-7.8\" font-family=\"Helvetica,sans-Serif\" font-size=\"14.00\">class = edible</text>\n</g>\n<!-- 25&#45;&gt;27 -->\n<g id=\"edge27\" class=\"edge\">\n<title>25&#45;&gt;27</title>\n<path fill=\"none\" stroke=\"black\" d=\"M1031.86,-103.73C1032.24,-95.52 1032.63,-86.86 1033.01,-78.56\"/>\n<polygon fill=\"black\" stroke=\"black\" points=\"1036.52,-78.45 1033.48,-68.3 1029.53,-78.13 1036.52,-78.45\"/>\n</g>\n<!-- 29 -->\n<g id=\"node30\" class=\"node\">\n<title>29</title>\n<path fill=\"#e58139\" stroke=\"black\" d=\"M1256,-68C1256,-68 1148,-68 1148,-68 1142,-68 1136,-62 1136,-56 1136,-56 1136,-12 1136,-12 1136,-6 1142,0 1148,0 1148,0 1256,0 1256,0 1262,0 1268,-6 1268,-12 1268,-12 1268,-56 1268,-56 1268,-62 1262,-68 1256,-68\"/>\n<text text-anchor=\"start\" x=\"1174\" y=\"-52.8\" font-family=\"Helvetica,sans-Serif\" font-size=\"14.00\">gini = 0.0</text>\n<text text-anchor=\"start\" x=\"1164.5\" y=\"-37.8\" font-family=\"Helvetica,sans-Serif\" font-size=\"14.00\">samples = 1</text>\n<text text-anchor=\"start\" x=\"1144\" y=\"-22.8\" font-family=\"Helvetica,sans-Serif\" font-size=\"14.00\">value = [1.026, 0.0]</text>\n<text text-anchor=\"start\" x=\"1147.5\" y=\"-7.8\" font-family=\"Helvetica,sans-Serif\" font-size=\"14.00\">class = poisonous</text>\n</g>\n<!-- 28&#45;&gt;29 -->\n<g id=\"edge29\" class=\"edge\">\n<title>28&#45;&gt;29</title>\n<path fill=\"none\" stroke=\"black\" d=\"M1205.14,-103.73C1204.76,-95.52 1204.37,-86.86 1203.99,-78.56\"/>\n<polygon fill=\"black\" stroke=\"black\" points=\"1207.47,-78.13 1203.52,-68.3 1200.48,-78.45 1207.47,-78.13\"/>\n</g>\n<!-- 30 -->\n<g id=\"node31\" class=\"node\">\n<title>30</title>\n<path fill=\"#399de5\" stroke=\"black\" d=\"M1421.5,-68C1421.5,-68 1298.5,-68 1298.5,-68 1292.5,-68 1286.5,-62 1286.5,-56 1286.5,-56 1286.5,-12 1286.5,-12 1286.5,-6 1292.5,0 1298.5,0 1298.5,0 1421.5,0 1421.5,0 1427.5,0 1433.5,-6 1433.5,-12 1433.5,-12 1433.5,-56 1433.5,-56 1433.5,-62 1427.5,-68 1421.5,-68\"/>\n<text text-anchor=\"start\" x=\"1332\" y=\"-52.8\" font-family=\"Helvetica,sans-Serif\" font-size=\"14.00\">gini = 0.0</text>\n<text text-anchor=\"start\" x=\"1315\" y=\"-37.8\" font-family=\"Helvetica,sans-Serif\" font-size=\"14.00\">samples = 137</text>\n<text text-anchor=\"start\" x=\"1294.5\" y=\"-22.8\" font-family=\"Helvetica,sans-Serif\" font-size=\"14.00\">value = [0.0, 133.559]</text>\n<text text-anchor=\"start\" x=\"1318.5\" y=\"-7.8\" font-family=\"Helvetica,sans-Serif\" font-size=\"14.00\">class = edible</text>\n</g>\n<!-- 28&#45;&gt;30 -->\n<g id=\"edge30\" class=\"edge\">\n<title>28&#45;&gt;30</title>\n<path fill=\"none\" stroke=\"black\" d=\"M1263.97,-103.73C1277.48,-94.06 1291.86,-83.77 1305.27,-74.17\"/>\n<polygon fill=\"black\" stroke=\"black\" points=\"1307.38,-76.97 1313.47,-68.3 1303.3,-71.27 1307.38,-76.97\"/>\n</g>\n<!-- 34 -->\n<g id=\"node35\" class=\"node\">\n<title>34</title>\n<path fill=\"#399de5\" stroke=\"black\" d=\"M1574,-417.5C1574,-417.5 1458,-417.5 1458,-417.5 1452,-417.5 1446,-411.5 1446,-405.5 1446,-405.5 1446,-361.5 1446,-361.5 1446,-355.5 1452,-349.5 1458,-349.5 1458,-349.5 1574,-349.5 1574,-349.5 1580,-349.5 1586,-355.5 1586,-361.5 1586,-361.5 1586,-405.5 1586,-405.5 1586,-411.5 1580,-417.5 1574,-417.5\"/>\n<text text-anchor=\"start\" x=\"1488\" y=\"-402.3\" font-family=\"Helvetica,sans-Serif\" font-size=\"14.00\">gini = 0.0</text>\n<text text-anchor=\"start\" x=\"1475\" y=\"-387.3\" font-family=\"Helvetica,sans-Serif\" font-size=\"14.00\">samples = 13</text>\n<text text-anchor=\"start\" x=\"1454\" y=\"-372.3\" font-family=\"Helvetica,sans-Serif\" font-size=\"14.00\">value = [0.0, 12.673]</text>\n<text text-anchor=\"start\" x=\"1474.5\" y=\"-357.3\" font-family=\"Helvetica,sans-Serif\" font-size=\"14.00\">class = edible</text>\n</g>\n<!-- 33&#45;&gt;34 -->\n<g id=\"edge34\" class=\"edge\">\n<title>33&#45;&gt;34</title>\n<path fill=\"none\" stroke=\"black\" d=\"M1516,-460.91C1516,-450.2 1516,-438.62 1516,-427.78\"/>\n<polygon fill=\"black\" stroke=\"black\" points=\"1519.5,-427.67 1516,-417.67 1512.5,-427.67 1519.5,-427.67\"/>\n</g>\n<!-- 35 -->\n<g id=\"node36\" class=\"node\">\n<title>35</title>\n<path fill=\"#e58139\" stroke=\"black\" d=\"M1732,-417.5C1732,-417.5 1616,-417.5 1616,-417.5 1610,-417.5 1604,-411.5 1604,-405.5 1604,-405.5 1604,-361.5 1604,-361.5 1604,-355.5 1610,-349.5 1616,-349.5 1616,-349.5 1732,-349.5 1732,-349.5 1738,-349.5 1744,-355.5 1744,-361.5 1744,-361.5 1744,-405.5 1744,-405.5 1744,-411.5 1738,-417.5 1732,-417.5\"/>\n<text text-anchor=\"start\" x=\"1643.5\" y=\"-402.3\" font-family=\"Helvetica,sans-Serif\" font-size=\"14.00\">gini = &#45;0.0</text>\n<text text-anchor=\"start\" x=\"1633\" y=\"-387.3\" font-family=\"Helvetica,sans-Serif\" font-size=\"14.00\">samples = 35</text>\n<text text-anchor=\"start\" x=\"1612\" y=\"-372.3\" font-family=\"Helvetica,sans-Serif\" font-size=\"14.00\">value = [35.926, 0.0]</text>\n<text text-anchor=\"start\" x=\"1619.5\" y=\"-357.3\" font-family=\"Helvetica,sans-Serif\" font-size=\"14.00\">class = poisonous</text>\n</g>\n<!-- 33&#45;&gt;35 -->\n<g id=\"edge35\" class=\"edge\">\n<title>33&#45;&gt;35</title>\n<path fill=\"none\" stroke=\"black\" d=\"M1570.82,-460.91C1587.06,-448.88 1604.81,-435.73 1620.94,-423.79\"/>\n<polygon fill=\"black\" stroke=\"black\" points=\"1623.26,-426.43 1629.21,-417.67 1619.09,-420.81 1623.26,-426.43\"/>\n</g>\n</g>\n</svg>\n",
            "text/plain": [
              "<graphviz.sources.Source at 0x7a4fad9efd00>"
            ]
          },
          "metadata": {},
          "execution_count": 13
        }
      ]
    }
  ]
}